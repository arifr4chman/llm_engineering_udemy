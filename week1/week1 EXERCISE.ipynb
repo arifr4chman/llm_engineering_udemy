{
 "cells": [
  {
   "cell_type": "markdown",
   "id": "fe12c203-e6a6-452c-a655-afb8a03a4ff5",
   "metadata": {},
   "source": [
    "# End of week 1 exercise\n",
    "\n",
    "To demonstrate your familiarity with OpenAI API, and also Ollama, build a tool that takes a technical question,  \n",
    "and responds with an explanation. This is a tool that you will be able to use yourself during the course!"
   ]
  },
  {
   "cell_type": "code",
   "execution_count": 20,
   "id": "c1070317-3ed9-4659-abe3-828943230e03",
   "metadata": {},
   "outputs": [],
   "source": [
    "# imports\n",
    "from openai import OpenAI\n",
    "from dotenv import load_dotenv\n",
    "import os\n",
    "from IPython.display import display, Markdown, update_display\n"
   ]
  },
  {
   "cell_type": "code",
   "execution_count": 2,
   "id": "4a456906-915a-4bfd-bb9d-57e505c5093f",
   "metadata": {},
   "outputs": [],
   "source": [
    "# constants\n",
    "MODEL_GPT = 'gpt-4o-mini'\n",
    "MODEL_LLAMA = 'llama3.2'"
   ]
  },
  {
   "cell_type": "code",
   "execution_count": 3,
   "id": "a8d7923c-5f28-4c30-8556-342d7c8497c1",
   "metadata": {},
   "outputs": [],
   "source": [
    "# set up environment\n",
    "load_dotenv(override=True)\n",
    "\n",
    "# Roche Galileo specific initialization\n",
    "api_key=os.getenv(\"OPENAI_API_KEY\")\n",
    "base_url=os.getenv(\"GALILEO_AI_GATEWAY\")\n",
    "\n",
    "openai = OpenAI(\n",
    "    api_key=api_key,\n",
    "    base_url=base_url\n",
    ")\n"
   ]
  },
  {
   "cell_type": "code",
   "execution_count": 14,
   "id": "3f0d0137-52b0-47a8-81a8-11a90a010798",
   "metadata": {},
   "outputs": [],
   "source": [
    "# here is the question; type over this to ask something new\n",
    "\n",
    "question = \"\"\"\n",
    "Please explain what this code does and why:\n",
    "yield from {book.get(\"author\") for book in books if book.get(\"author\")}\n",
    "\"\"\""
   ]
  },
  {
   "cell_type": "code",
   "execution_count": 19,
   "id": "807b04df",
   "metadata": {},
   "outputs": [
    {
     "data": {
      "text/plain": [
       "'You are a programmer expert, your job is to assist with coding tasks, answer programming questions, and provide code examples. Respond in markdown.'"
      ]
     },
     "execution_count": 19,
     "metadata": {},
     "output_type": "execute_result"
    }
   ],
   "source": [
    "system_prompt = \"You are a programmer expert, your job is \" \\\n",
    "\"to assist with coding tasks, answer programming questions, \" \\\n",
    "\"and provide code examples. Respond in markdown.\"\n",
    "system_prompt"
   ]
  },
  {
   "cell_type": "code",
   "execution_count": 15,
   "id": "9e69897c",
   "metadata": {},
   "outputs": [],
   "source": [
    "user_prompt = question"
   ]
  },
  {
   "cell_type": "code",
   "execution_count": 53,
   "id": "a6048c84",
   "metadata": {},
   "outputs": [],
   "source": [
    "messages = [\n",
    "    {\"role\": \"system\", \"content\": system_prompt},\n",
    "    {\"role\": \"user\", \"content\": user_prompt}\n",
    "]"
   ]
  },
  {
   "cell_type": "code",
   "execution_count": null,
   "id": "60ce7000-a4a5-4cce-a261-e75ef45063b4",
   "metadata": {},
   "outputs": [],
   "source": [
    "# Get gpt-4o-mini to answer, without streaming\n",
    "\n",
    "response = openai.chat.completions.create(\n",
    "    model=MODEL_GPT,\n",
    "    messages=messages,\n",
    "    # response_format={\"type\": \"json_object\"},\n",
    "    # timeout=60  # seconds, adjust as needed\n",
    ")\n",
    "\n",
    "result = response.choices[0].message.content\n"
   ]
  },
  {
   "cell_type": "code",
   "execution_count": 55,
   "id": "7ff1c73a",
   "metadata": {},
   "outputs": [
    {
     "data": {
      "text/markdown": [
       "The code you've provided is a Python expression that uses a generator to yield values from a set. Let's break it down step-by-step to understand what it does:\n",
       "\n",
       "### Code Explanation\n",
       "\n",
       "```python\n",
       "yield from {book.get(\"author\") for book in books if book.get(\"author\")}\n",
       "```\n",
       "\n",
       "1. **Set Comprehension**: \n",
       "    - The expression `{book.get(\"author\") for book in books if book.get(\"author\")}` is a **set comprehension**. Set comprehensions are similar to list comprehensions but create a set, which automatically eliminates duplicate entries.\n",
       "    - `book.get(\"author\")`: This calls the `get` method on each `book` dictionary to retrieve the value associated with the key `\"author\"`. If the key does not exist, it returns `None` (or some default value if specified).\n",
       "    - `for book in books`: This iterates over each item in the `books` iterable, which is expected to be a list (or another iterable) of dictionaries, where each dictionary represents a book.\n",
       "    - `if book.get(\"author\")`: This is a condition that filters the books. It ensures that only books with a defined (non-falsy) author are included in the set.\n",
       "\n",
       "2. **Yielding Values**:\n",
       "    - The `yield from` statement is used in a generator function to yield all values from an iterable. In this case, it will yield all unique author names (since the comprehension returns a set) that are found in the `books` collection.\n",
       "    - The `yield from` syntax makes it easier to yield from an iterable without having to use an explicit loop.\n",
       "\n",
       "### Summary\n",
       "\n",
       "- The code collects the unique authors from a list of book dictionaries.\n",
       "- It filters out any books that do not have an author (i.e., those where `book.get(\"author\")` returns `None` or some falsy value).\n",
       "- It yields each unique author name from the generated set.\n",
       "\n",
       "### Use Case\n",
       "\n",
       "This kind of code can be particularly useful when you want to process or aggregate data from a collection (like a list of books) and collect distinct values (like author names) without duplicates. This operation is commonly used in data processing tasks, such as when preparing data for analysis or reporting. \n",
       "\n",
       "### Example Usage\n",
       "\n",
       "Here's how it might be used in context:\n",
       "\n",
       "```python\n",
       "books = [\n",
       "    {\"title\": \"Book One\", \"author\": \"Author A\"},\n",
       "    {\"title\": \"Book Two\", \"author\": \"Author B\"},\n",
       "    {\"title\": \"Book Three\", \"author\": \"Author A\"},\n",
       "    {\"title\": \"Book Four\"},  # No author\n",
       "    {\"title\": \"Book Five\", \"author\": None},  # No author\n",
       "]\n",
       "\n",
       "def unique_authors(books):\n",
       "    yield from {book.get(\"author\") for book in books if book.get(\"author\")}\n",
       "\n",
       "# Usage\n",
       "for author in unique_authors(books):\n",
       "    print(author)\n",
       "\n",
       "# Output:\n",
       "# Author A\n",
       "# Author B\n",
       "```\n",
       "\n",
       "In this example, the output will display each unique author only once."
      ],
      "text/plain": [
       "<IPython.core.display.Markdown object>"
      ]
     },
     "metadata": {},
     "output_type": "display_data"
    }
   ],
   "source": [
    "# print (result)\n",
    "display (Markdown(result))\n"
   ]
  },
  {
   "cell_type": "code",
   "execution_count": 49,
   "id": "b8d56c2c",
   "metadata": {},
   "outputs": [],
   "source": [
    "# try with Streaming\n",
    "stream = openai.chat.completions.create(\n",
    "    model=MODEL_GPT,\n",
    "    messages=[\n",
    "        {\"role\": \"system\", \"content\": system_prompt},\n",
    "        {\"role\": \"user\", \"content\": user_prompt}\n",
    "    ],\n",
    "    stream=True\n",
    ")"
   ]
  },
  {
   "cell_type": "code",
   "execution_count": 51,
   "id": "652dbd24",
   "metadata": {},
   "outputs": [
    {
     "data": {
      "text/markdown": [
       "Certainly! Let's break down the code snippet:\n",
       "\n",
       "python\n",
       "yield from {book.get(\"author\") for book in books if book.get(\"author\")}\n",
       "\n",
       "\n",
       "### Explanation\n",
       "\n",
       "1. **Set Comprehension**: \n",
       "   - The code utilizes a **set comprehension** wrapped in curly braces `{}`. This means that it generates a set of unique values derived from the expression inside. \n",
       "   - The expression `book.get(\"author\")` retrieves the value associated with the key `\"author\"` from each dictionary (`book`) in the iterable `books`.\n",
       "\n",
       "2. **Iteration Over `books`**: \n",
       "   - `for book in books` iterates over a collection called `books`, which is expected to be a list (or another iterable) of dictionaries, where each dictionary represents a book.\n",
       "\n",
       "3. **Conditional Filtering**: \n",
       "   - `if book.get(\"author\")` is a condition that filters the results. This means that only books that have an author (i.e., where `book.get(\"author\")` is not `None` or an empty string) are included in the set comprehension.\n",
       "   \n",
       "4. **Yielding Values**: \n",
       "   - The expression `yield from` is a way to yield all the values from an iterable. It essentially takes each element produced by the expression on the right side and yields it one by one.\n",
       "   - In this case, the iterable is the set created by the comprehension, which contains the unique authors from the provided `books` collection.\n",
       "\n",
       "### Result\n",
       "Overall, this code effectively gathers all unique authors from a list of books (each represented by a dictionary) and yields them one by one. If a book does not have an author (returns `None` or an empty string), it will be excluded from the final set. \n",
       "\n",
       "This can be particularly useful in cases where you want to process or display a list of unique authors without duplication.\n",
       "\n",
       "### Example\n",
       "For instance, consider the following input:\n",
       "python\n",
       "books = [\n",
       "    {\"title\": \"Book 1\", \"author\": \"Author A\"},\n",
       "    {\"title\": \"Book 2\", \"author\": \"Author B\"},\n",
       "    {\"title\": \"Book 3\", \"author\": \"Author A\"},\n",
       "    {\"title\": \"Book 4\"},\n",
       "    {\"title\": \"Book 5\", \"author\": None}\n",
       "]\n",
       "\n",
       "The code would yield:\n",
       "- \"Author A\"\n",
       "- \"Author B\"\n",
       "\n",
       "As a result, the yielded set would be `{\"Author A\", \"Author B\"}`."
      ],
      "text/plain": [
       "<IPython.core.display.Markdown object>"
      ]
     },
     "metadata": {},
     "output_type": "display_data"
    }
   ],
   "source": [
    "response = \"\"\n",
    "display_handle = display(Markdown(\"\"), display_id=True)\n",
    "for chunk in stream:\n",
    "    if chunk is None:\n",
    "        continue\n",
    "    elif len(chunk.choices) == 0:\n",
    "        continue\n",
    "    elif chunk.choices[0].delta.content is not None:\n",
    "        response += chunk.choices[0].delta.content \n",
    "    response = response.replace(\"```\",\"\").replace(\"markdown\", \"\")\n",
    "    update_display(Markdown(response), display_id=display_handle.display_id)"
   ]
  },
  {
   "cell_type": "code",
   "execution_count": 57,
   "id": "426ee71a",
   "metadata": {},
   "outputs": [
    {
     "data": {
      "text/markdown": [
       "**Code Explanation**\n",
       "=====================\n",
       "\n",
       "The given code snippet is a generator expression that uses the `yield from` syntax to delegate iteration to another iterable.\n",
       "\n",
       "```python\n",
       "yield from {book.get(\"author\") for book in books if book.get(\"author\")}\n",
       "```\n",
       "\n",
       "Here's a breakdown of what's happening:\n",
       "\n",
       "1. `{...}`: This is an immediately invoked dictionary comprehension, also known as a nested dictionary literal.\n",
       "2. `for book in books`: This loops through each item in the `books` collection.\n",
       "3. `if book.get(\"author\")`: This filters out any items that don't have a \"author\" key or value.\n",
       "4. `book.get(\"author\")`: For each remaining item, this extracts its associated author value.\n",
       "\n",
       "**What is `yield from`?**\n",
       "-------------------------\n",
       "\n",
       "The `yield from` syntax was introduced in Python 3.3. It allows you to delegate iteration to another iterable, such as a generator or an iterator, rather than writing out the entire iteration manually.\n",
       "\n",
       "In this case, the outer dictionary comprehension would iterate over each book and try to extract its author value. However, by using `yield from`, we can offload the iteration to the inner expression `{...}`, which is likely another generator expression that yields a sequence of authors.\n",
       "\n",
       "**Example Use Case**\n",
       "--------------------\n",
       "\n",
       "Suppose we have a list of books, where each book has an \"author\" key:\n",
       "```python\n",
       "books = [\n",
       "    {\"title\": \"Book 1\", \"author\": \"John Doe\"},\n",
       "    {\"title\": \"Book 2\", \"author\": None},\n",
       "    {\"title\": \"Book 3\", \"author\": \"Jane Smith\"}\n",
       "]\n",
       "```\n",
       "If we want to extract the authors from these books, we can use the given code:\n",
       "```python\n",
       "authors = yield from {book.get(\"author\") for book in books if book.get(\"author\")}\n",
       "print(authors)  # Output: [\"John Doe\", \"Jane Smith\"]\n",
       "```\n",
       "By using `yield from`, we can make the code more concise and easier to read, especially when dealing with complex iteration scenarios."
      ],
      "text/plain": [
       "<IPython.core.display.Markdown object>"
      ]
     },
     "metadata": {},
     "output_type": "display_data"
    }
   ],
   "source": [
    "# Get Llama 3.2 to answer\n",
    "import ollama\n",
    "\n",
    "response = ollama.chat(model=MODEL_LLAMA, messages=messages)\n",
    "reply = response['message']['content']\n",
    "display(Markdown(reply))"
   ]
  },
  {
   "cell_type": "code",
   "execution_count": 61,
   "id": "e12356a2",
   "metadata": {},
   "outputs": [
    {
     "data": {
      "text/markdown": [
       "**Code Breakdown**\n",
       "================\n",
       "\n",
       "The given line of code is a Python expression that utilizes the `yield from` syntax, which was introduced in Python 3.3 as part of the generator expression.\n",
       "\n",
       "```python\n",
       "yield from {book.get(\"author\") for book in books if book.get(\"author\")}\n",
       "```\n",
       "\n",
       "Here's what it does:\n",
       "\n",
       "1. **List Comprehension**: The code starts with a list comprehension, `book.get(\"author\") for book in books`. This generates a new list that contains the result of calling `get` on each dictionary (`book`) in the `books` collection.\n",
       "2. **`yield from`**: The `yield from` syntax is used to delegate the iterations over some sequence (in this case, a generator expression) to an existing generator.\n",
       "\n",
       "**What it does:**\n",
       "\n",
       "When you call `$()` on a Python object that implements the iterator protocol, like a list or tuple, Python will yield each element in turn. Adding `yield from ...` essentially \"unpacks\" its arguments and yields their own iterables.\n",
       "\n",
       "In this case, `yield from...` is used to create a new generator expression that produces all elements returned by the existing dictionary comprehension. This means the entire flow of iteration is delegated to the `get(\"author\") for book in books if book.get(\"author\")` expression itself.\n",
       "\n",
       "However, since there's no actual iterable here, and we're only dealing with a single list (`books`), this approach doesn't add significant functionality. One possible interpretation could be to create an iterator over a specific subset of the data - in this case, all dictionaries that contain an `\"author\"` key.\n",
       "\n",
       "**Why**\n",
       "-----------\n",
       "\n",
       "This code can be useful when:\n",
       "\n",
       "*   You need to process part of a collection (e.g., only dictionaries with a certain attribute or value).\n",
       "*   You have a chain of filter operations where you want them performed sequentially.\n",
       "*   When working with large data collections and optimizing memory usage by avoiding unnecessary list comprehensions.\n",
       "\n",
       "It ensures that the computation flows in a specific order: filtering, then extracting the desired data. This can be especially beneficial for lazy evaluation cases where generating intermediate steps might have performance implications."
      ],
      "text/plain": [
       "<IPython.core.display.Markdown object>"
      ]
     },
     "metadata": {},
     "output_type": "display_data"
    }
   ],
   "source": [
    "# Alternative way to call Llama 3.2 via OpenAI API compatible interface\n",
    "\n",
    "ollama_via_openai = OpenAI(base_url='http://localhost:11434/v1', api_key='ollama')\n",
    "\n",
    "response = ollama_via_openai.chat.completions.create(\n",
    "    model=MODEL_LLAMA,\n",
    "    messages=messages\n",
    ")\n",
    "\n",
    "display(Markdown(response.choices[0].message.content))\n"
   ]
  }
 ],
 "metadata": {
  "kernelspec": {
   "display_name": ".venv (3.13.7)",
   "language": "python",
   "name": "python3"
  },
  "language_info": {
   "codemirror_mode": {
    "name": "ipython",
    "version": 3
   },
   "file_extension": ".py",
   "mimetype": "text/x-python",
   "name": "python",
   "nbconvert_exporter": "python",
   "pygments_lexer": "ipython3",
   "version": "3.13.7"
  }
 },
 "nbformat": 4,
 "nbformat_minor": 5
}
